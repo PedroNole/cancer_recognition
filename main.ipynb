{
 "cells": [
  {
   "cell_type": "code",
   "execution_count": 1,
   "id": "d15eb153",
   "metadata": {},
   "outputs": [],
   "source": [
    "import os\n",
    "from pathlib import Path\n",
    "from PIL import Image\n",
    "import matplotlib.pyplot as plt\n",
    "import pandas as pd\n",
    "import shutil\n",
    "import numpy as np\n",
    "\n",
    "glioma = Path('./Training/glioma')\n",
    "meningioma = Path('./Training/meningioma')\n",
    "pituitary = Path('./Training/pituitary')\n",
    "\n",
    "no_tumor = Path('./Training/notumor')\n",
    "\n",
    "glioma_testing = Path('./Testing/glioma')\n",
    "meningioma_testing = Path('./Testing/meningioma')\n",
    "pituitary_testing = Path('./Testing/pituitary')\n",
    "\n",
    "no_tumor_testing = Path('./Testing/notumor')\n",
    "\n",
    "\n",
    "counter = 0"
   ]
  },
  {
   "cell_type": "markdown",
   "id": "5d1af12e",
   "metadata": {},
   "source": [
    "Primero pasamos todas las img a una carpeta todas para poder tratarlas con más facilidad y lo guardamos en un csv para guardar la información de la img"
   ]
  },
  {
   "cell_type": "code",
   "execution_count": 2,
   "id": "66ce3b5a",
   "metadata": {},
   "outputs": [],
   "source": [
    "df = pd.DataFrame(columns=['img','type','has_cancer'])\n",
    "\n",
    "destino_dir = Path(\"data_raw\")\n",
    "destino_dir.mkdir(parents=True, exist_ok=True)\n",
    "\n",
    "glioma_final = list(glioma.iterdir()) + list(glioma_testing.iterdir())\n",
    "meningioma_final = list(meningioma.iterdir()) + list(meningioma_testing.iterdir())\n",
    "pituitary_final = list(pituitary.iterdir()) + list(pituitary_testing.iterdir())\n",
    "\n",
    "no_tumor_final = list(no_tumor.iterdir()) + list(no_tumor_testing.iterdir())\n",
    "has_cancer = {\n",
    "    \"glioma\" : glioma_final,\n",
    "    \"meningioma\": meningioma_final,\n",
    "    \"pituitary\": pituitary_final\n",
    "    }"
   ]
  },
  {
   "cell_type": "code",
   "execution_count": 3,
   "id": "208a0049",
   "metadata": {},
   "outputs": [
    {
     "data": {
      "text/html": [
       "<div>\n",
       "<style scoped>\n",
       "    .dataframe tbody tr th:only-of-type {\n",
       "        vertical-align: middle;\n",
       "    }\n",
       "\n",
       "    .dataframe tbody tr th {\n",
       "        vertical-align: top;\n",
       "    }\n",
       "\n",
       "    .dataframe thead th {\n",
       "        text-align: right;\n",
       "    }\n",
       "</style>\n",
       "<table border=\"1\" class=\"dataframe\">\n",
       "  <thead>\n",
       "    <tr style=\"text-align: right;\">\n",
       "      <th></th>\n",
       "      <th>img</th>\n",
       "      <th>type</th>\n",
       "      <th>has_cancer</th>\n",
       "    </tr>\n",
       "  </thead>\n",
       "  <tbody>\n",
       "    <tr>\n",
       "      <th>0</th>\n",
       "      <td>0.jpg</td>\n",
       "      <td>glioma</td>\n",
       "      <td>1</td>\n",
       "    </tr>\n",
       "    <tr>\n",
       "      <th>1</th>\n",
       "      <td>1.jpg</td>\n",
       "      <td>glioma</td>\n",
       "      <td>1</td>\n",
       "    </tr>\n",
       "    <tr>\n",
       "      <th>2</th>\n",
       "      <td>2.jpg</td>\n",
       "      <td>glioma</td>\n",
       "      <td>1</td>\n",
       "    </tr>\n",
       "    <tr>\n",
       "      <th>3</th>\n",
       "      <td>3.jpg</td>\n",
       "      <td>glioma</td>\n",
       "      <td>1</td>\n",
       "    </tr>\n",
       "    <tr>\n",
       "      <th>4</th>\n",
       "      <td>4.jpg</td>\n",
       "      <td>glioma</td>\n",
       "      <td>1</td>\n",
       "    </tr>\n",
       "    <tr>\n",
       "      <th>...</th>\n",
       "      <td>...</td>\n",
       "      <td>...</td>\n",
       "      <td>...</td>\n",
       "    </tr>\n",
       "    <tr>\n",
       "      <th>7018</th>\n",
       "      <td>7018.jpg</td>\n",
       "      <td>NaN</td>\n",
       "      <td>0</td>\n",
       "    </tr>\n",
       "    <tr>\n",
       "      <th>7019</th>\n",
       "      <td>7019.jpg</td>\n",
       "      <td>NaN</td>\n",
       "      <td>0</td>\n",
       "    </tr>\n",
       "    <tr>\n",
       "      <th>7020</th>\n",
       "      <td>7020.jpg</td>\n",
       "      <td>NaN</td>\n",
       "      <td>0</td>\n",
       "    </tr>\n",
       "    <tr>\n",
       "      <th>7021</th>\n",
       "      <td>7021.jpg</td>\n",
       "      <td>NaN</td>\n",
       "      <td>0</td>\n",
       "    </tr>\n",
       "    <tr>\n",
       "      <th>7022</th>\n",
       "      <td>7022.jpg</td>\n",
       "      <td>NaN</td>\n",
       "      <td>0</td>\n",
       "    </tr>\n",
       "  </tbody>\n",
       "</table>\n",
       "<p>7023 rows × 3 columns</p>\n",
       "</div>"
      ],
      "text/plain": [
       "           img    type  has_cancer\n",
       "0        0.jpg  glioma           1\n",
       "1        1.jpg  glioma           1\n",
       "2        2.jpg  glioma           1\n",
       "3        3.jpg  glioma           1\n",
       "4        4.jpg  glioma           1\n",
       "...        ...     ...         ...\n",
       "7018  7018.jpg     NaN           0\n",
       "7019  7019.jpg     NaN           0\n",
       "7020  7020.jpg     NaN           0\n",
       "7021  7021.jpg     NaN           0\n",
       "7022  7022.jpg     NaN           0\n",
       "\n",
       "[7023 rows x 3 columns]"
      ]
     },
     "execution_count": 3,
     "metadata": {},
     "output_type": "execute_result"
    }
   ],
   "source": [
    "for key, value in has_cancer.items():\n",
    "    for img in value:\n",
    "        new_name = f\"{counter}.jpg\"\n",
    "        path_final = destino_dir / new_name\n",
    "        shutil.copy(img, path_final)\n",
    "        df.loc[len(df)] = [new_name, key, 1]\n",
    "        counter += 1\n",
    "for img in no_tumor_final:\n",
    "    new_name = f\"{counter}.jpg\"\n",
    "    path_final = destino_dir / new_name\n",
    "    shutil.copy(img, path_final)\n",
    "    df.loc[len(df)] = [new_name, np.nan, 0]\n",
    "    counter += 1\n",
    "df"
   ]
  },
  {
   "cell_type": "code",
   "execution_count": 4,
   "id": "d2c75ad9",
   "metadata": {},
   "outputs": [
    {
     "data": {
      "text/plain": [
       "has_cancer\n",
       "1    5023\n",
       "0    2000\n",
       "Name: count, dtype: int64"
      ]
     },
     "execution_count": 4,
     "metadata": {},
     "output_type": "execute_result"
    }
   ],
   "source": [
    "df['has_cancer'].value_counts()"
   ]
  },
  {
   "cell_type": "code",
   "execution_count": 5,
   "id": "58179d85",
   "metadata": {},
   "outputs": [],
   "source": [
    "df.to_csv('data_raw.csv', index=False)"
   ]
  }
 ],
 "metadata": {
  "kernelspec": {
   "display_name": "venv",
   "language": "python",
   "name": "python3"
  },
  "language_info": {
   "codemirror_mode": {
    "name": "ipython",
    "version": 3
   },
   "file_extension": ".py",
   "mimetype": "text/x-python",
   "name": "python",
   "nbconvert_exporter": "python",
   "pygments_lexer": "ipython3",
   "version": "3.13.2"
  }
 },
 "nbformat": 4,
 "nbformat_minor": 5
}
